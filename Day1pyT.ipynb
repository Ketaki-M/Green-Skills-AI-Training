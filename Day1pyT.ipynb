{
 "cells": [
  {
   "cell_type": "code",
   "execution_count": 6,
   "id": "0f328660-f814-496f-a951-00412ae4c02c",
   "metadata": {},
   "outputs": [
    {
     "name": "stdout",
     "output_type": "stream",
     "text": [
      "All libraries are working!\n",
      "TensorFlow version: 2.13.0\n"
     ]
    }
   ],
   "source": [
    "import tensorflow as tf\n",
    "import cv2\n",
    "import pandas as pd\n",
    "import numpy as np\n",
    "import sklearn\n",
    "import matplotlib\n",
    "import seaborn\n",
    "\n",
    "print(\"All libraries are working!\")\n",
    "print(\"TensorFlow version:\", tf.__version__)"
   ]
  },
  {
   "cell_type": "code",
   "execution_count": 2,
   "id": "530dd869-ff7e-43d0-bf99-1449c29aaf7e",
   "metadata": {},
   "outputs": [
    {
     "name": "stdout",
     "output_type": "stream",
     "text": [
      "['Apple', 'Banana', 'Mango', 'kiwi']\n",
      "['Apple', 'Banana', 'Mango']\n",
      "['Apple', 'Banana']\n",
      "['Apple', 'Banana', 'Dragon-fruit']\n",
      "['Apple', 'Banana', 'Orange', 'Dragon-fruit']\n"
     ]
    }
   ],
   "source": [
    "fruit=['Apple','Banana','Mango','kiwi']\n",
    "print(fruit)\n",
    "\n",
    "fruit.remove('kiwi')\n",
    "print(fruit)\n",
    "\n",
    "fruit.pop()\n",
    "print(fruit)\n",
    "\n",
    "fruit.append('Dragon-fruit')\n",
    "print(fruit)\n",
    "\n",
    "fruit.insert(2,'Orange')\n",
    "print(fruit)\n",
    "\n"
   ]
  },
  {
   "cell_type": "code",
   "execution_count": 4,
   "id": "5b827bda-498c-4061-99b3-ad0b5444d488",
   "metadata": {},
   "outputs": [
    {
     "name": "stdout",
     "output_type": "stream",
     "text": [
      "('apple', 'banana', 'mango', 'orange')\n"
     ]
    }
   ],
   "source": [
    "\n",
    "fruits = (\"apple\", \"banana\", \"mango\")\n",
    "\n",
    "fruits = fruits + (\"orange\",)\n",
    "\n",
    "print(fruits)\n"
   ]
  },
  {
   "cell_type": "code",
   "execution_count": 5,
   "id": "7a74d035-95bb-4d68-a47e-6e1c4476a248",
   "metadata": {},
   "outputs": [
    {
     "name": "stdout",
     "output_type": "stream",
     "text": [
      "('apple', 'banana', 'mango', 'orange')\n"
     ]
    }
   ],
   "source": [
    "fruits = (\"apple\", \"banana\", \"mango\")\n",
    "\n",
    "\n",
    "temp = list(fruits)\n",
    "temp.append(\"orange\")\n",
    "\n",
    "\n",
    "fruits = tuple(temp)\n",
    "\n",
    "print(fruits)\n"
   ]
  },
  {
   "cell_type": "code",
   "execution_count": 4,
   "id": "29193e58-40ec-49fa-96fd-4131fa6bb4ba",
   "metadata": {},
   "outputs": [
    {
     "name": "stdout",
     "output_type": "stream",
     "text": [
      "{'BMW': 'Black', 'Audi': 'White', 'Tesla': 'Red', 'Toyota': 'Blue', 'Udacity': 'Pink'}\n"
     ]
    }
   ],
   "source": [
    "car_colors = {\n",
    "    \"BMW\": \"Black\",\n",
    "    \"Audi\": \"White\",\n",
    "    \"Tesla\": \"Red\",\n",
    "    \"Toyota\": \"Blue\",\n",
    "    \"Udacity\":\"Pink\"\n",
    "    \n",
    "}\n",
    "\n",
    "print(car_colors)\n"
   ]
  },
  {
   "cell_type": "code",
   "execution_count": 7,
   "id": "9577ec52-7a7f-412b-b6d4-c8823fb5e8ae",
   "metadata": {},
   "outputs": [
    {
     "name": "stdout",
     "output_type": "stream",
     "text": [
      "{'BMW-M4': {'Black', 'BMW'}, 'Punch': {'White', 'TATA'}, 'I-10': {'Hyundai', 'Blue'}, 'Nexon': {'Red', 'Hyundai'}}\n"
     ]
    }
   ],
   "source": [
    "car_color_brand={\n",
    "    \"BMW-M4\":{\"Black\",\"BMW\"},\n",
    "    \"Punch\":{\"White\",\"TATA\"},\n",
    "    \"I-10\":{\"Blue\",\"Hyundai\"},\n",
    "    \"Nexon\":{\"Red\",\"Hyundai\"}\n",
    "}\n",
    "\n",
    "print(car_color_brand)\n",
    "\n",
    "\n"
   ]
  },
  {
   "cell_type": "code",
   "execution_count": 8,
   "id": "c61cce1d-6733-4aa0-a074-2f9f40e5e351",
   "metadata": {},
   "outputs": [
    {
     "name": "stdout",
     "output_type": "stream",
     "text": [
      "BMW-M4\n",
      "Punch\n",
      "I-10\n",
      "Nexon\n"
     ]
    }
   ],
   "source": [
    "car_color_brand = {\n",
    "    \"BMW-M4\": {\"Black\", \"BMW\"},\n",
    "    \"Punch\": {\"White\", \"TATA\"},\n",
    "    \"I-10\": {\"Blue\", \"Hyundai\"},\n",
    "    \"Nexon\": {\"Red\", \"Hyundai\"}\n",
    "}\n",
    "\n",
    "\n",
    "for car in car_color_brand:\n",
    "    print(car)\n"
   ]
  },
  {
   "cell_type": "code",
   "execution_count": 9,
   "id": "630ba71a-4978-4cc6-9c2b-c7163b15e5d1",
   "metadata": {},
   "outputs": [
    {
     "name": "stdout",
     "output_type": "stream",
     "text": [
      "{'Black', 'BMW'}\n",
      "{'White', 'TATA'}\n",
      "{'Hyundai', 'Blue'}\n",
      "{'Red', 'Hyundai'}\n"
     ]
    }
   ],
   "source": [
    "car_color_brand = {\n",
    "    \"BMW-M4\": {\"Black\", \"BMW\"},\n",
    "    \"Punch\": {\"White\", \"TATA\"},\n",
    "    \"I-10\": {\"Blue\", \"Hyundai\"},\n",
    "    \"Nexon\": {\"Red\", \"Hyundai\"}\n",
    "}\n",
    "\n",
    "for details in car_color_brand.values():\n",
    "    print(details)\n"
   ]
  },
  {
   "cell_type": "code",
   "execution_count": 15,
   "id": "64a47d25-7203-4d34-8ce8-f48aa8878329",
   "metadata": {},
   "outputs": [
    {
     "name": "stdout",
     "output_type": "stream",
     "text": [
      "{'BMW': 'Black', 'Audi': 'White', 'Tesla': 'Red', 'Toyota': 'Blue', 'Udacity': 'Pink'}\n",
      "BMW\n",
      "Audi\n",
      "Tesla\n",
      "Toyota\n",
      "Udacity\n"
     ]
    }
   ],
   "source": [
    "car_colors = {\n",
    "    \"BMW\": \"Black\",\n",
    "    \"Audi\": \"White\",\n",
    "    \"Tesla\": \"Red\",\n",
    "    \"Toyota\": \"Blue\",\n",
    "    \"Udacity\":\"Pink\"\n",
    "    \n",
    "}\n",
    "\n",
    "print(car_colors)\n",
    "\n",
    "for car in car_colors:\n",
    "    print(car)\n",
    "\n",
    "\n"
   ]
  },
  {
   "cell_type": "code",
   "execution_count": 16,
   "id": "2534a1b1-43c4-4a1f-a5d9-23877e5fffc8",
   "metadata": {},
   "outputs": [
    {
     "name": "stdout",
     "output_type": "stream",
     "text": [
      "Black\n",
      "White\n",
      "Red\n",
      "Blue\n",
      "Pink\n"
     ]
    }
   ],
   "source": [
    "car_colors = {\n",
    "    \"BMW\": \"Black\",\n",
    "    \"Audi\": \"White\",\n",
    "    \"Tesla\": \"Red\",\n",
    "    \"Toyota\": \"Blue\",\n",
    "    \"Udacity\":\"Pink\"\n",
    "    \n",
    "}\n",
    "\n",
    "\n",
    "\n",
    "for details in car_colors.values():\n",
    "    print(details)\n"
   ]
  },
  {
   "cell_type": "code",
   "execution_count": 17,
   "id": "a45ee49c-fb4e-4779-849a-9af3321c68a0",
   "metadata": {},
   "outputs": [
    {
     "name": "stdout",
     "output_type": "stream",
     "text": [
      "{'banana', 'cherry'}\n"
     ]
    }
   ],
   "source": [
    "set1 = {\"apple\", \"banana\", \"cherry\"}\n",
    "set2 = {\"banana\", \"cherry\", \"date\", \"fig\"}\n",
    "\n",
    "\n",
    "common = set1 & set2   \n",
    "\n",
    "print(common)\n"
   ]
  },
  {
   "cell_type": "code",
   "execution_count": 21,
   "id": "1a0a0569-761c-4480-9a5e-c6be29fe2f76",
   "metadata": {},
   "outputs": [
    {
     "name": "stdout",
     "output_type": "stream",
     "text": [
      "0\n",
      "2\n",
      "4\n",
      "6\n",
      "8\n",
      "10\n",
      "12\n",
      "14\n",
      "16\n",
      "18\n",
      "20\n",
      "22\n",
      "24\n",
      "26\n",
      "28\n",
      "30\n",
      "32\n",
      "34\n",
      "36\n",
      "38\n",
      "40\n",
      "42\n",
      "44\n",
      "46\n",
      "48\n",
      "50\n"
     ]
    }
   ],
   "source": [
    "def print_even_numbers():\n",
    "    for i in range(0, 51):  \n",
    "        if i % 2 == 0:\n",
    "            print(i)\n",
    "    \n",
    "            \n",
    "print_even_numbers()"
   ]
  },
  {
   "cell_type": "code",
   "execution_count": 29,
   "id": "9ba4dccc-5f11-4620-a06c-9be2a1edabd9",
   "metadata": {},
   "outputs": [
    {
     "name": "stdout",
     "output_type": "stream",
     "text": [
      "P E S ' s   M d r n   C l l g   O f   E n g n r n g "
     ]
    }
   ],
   "source": [
    "clg = \"PES's Modern College Of Engineering\"\n",
    "\n",
    "def vowels():\n",
    "    for i in (clg):\n",
    "        if(i!='a' and i!='e' and i!='i' and i!='o' and i!='u'):\n",
    "            print(i,end=\" \")\n",
    "\n",
    "vowels()\n",
    "\n",
    "\n"
   ]
  },
  {
   "cell_type": "code",
   "execution_count": 37,
   "id": "2dafd930-9e07-4b58-a727-be2d92649802",
   "metadata": {},
   "outputs": [
    {
     "name": "stdin",
     "output_type": "stream",
     "text": [
      "Enter the number:  2\n"
     ]
    },
    {
     "name": "stdout",
     "output_type": "stream",
     "text": [
      "2\n",
      "4\n",
      "6\n",
      "8\n",
      "10\n",
      "12\n",
      "14\n",
      "16\n",
      "18\n",
      "20\n"
     ]
    }
   ],
   "source": [
    "def tab():\n",
    "    num = int(input(\"Enter the number: \"))\n",
    "    for i in range(10):\n",
    "        i=i+1\n",
    "        print(num * i)\n",
    "\n",
    "tab()"
   ]
  },
  {
   "cell_type": "code",
   "execution_count": 43,
   "id": "b833a3d3-cb8c-4df8-91d9-a5c067f8a5c6",
   "metadata": {},
   "outputs": [
    {
     "name": "stdout",
     "output_type": "stream",
     "text": [
      "My name is Oreo\n"
     ]
    }
   ],
   "source": [
    "class Dog:\n",
    "    attr1='mammal'\n",
    "\n",
    "    def __init__(self,name):\n",
    "        self.name=name\n",
    "        \n",
    "    def speak(self):\n",
    "       print(\"My name is {}\".format(self.name))\n",
    "\n",
    "Oreo=Dog(\"Oreo\")\n",
    "Oreo.speak()\n",
    "\n",
    "\n"
   ]
  },
  {
   "cell_type": "code",
   "execution_count": 55,
   "id": "35d7946a-0174-4840-8068-bf7833e4cb4c",
   "metadata": {},
   "outputs": [
    {
     "name": "stdout",
     "output_type": "stream",
     "text": [
      "Roll Number: 101\n",
      "Name: Ruchi\n"
     ]
    }
   ],
   "source": [
    "class Person:\n",
    "    def __init__(self, name):\n",
    "        self.name = name\n",
    "\n",
    "    def display_name(self):\n",
    "        print(f\"Name: {self.name}\")\n",
    "\n",
    "\n",
    "class Student(Person):\n",
    "    def __init__(self, name, roll_number):\n",
    "        \n",
    "        super().__init__(name)\n",
    "        self.roll_number = roll_number\n",
    "\n",
    "    def display_student(self):\n",
    "        print(f\"Roll Number: {self.roll_number}\")\n",
    "        self.display_name()\n",
    "\n",
    "\n",
    "s1 = Student(\"Ruchi\", 101)\n",
    "\n",
    "\n",
    "s1.display_student()\n",
    "    "
   ]
  },
  {
   "cell_type": "code",
   "execution_count": null,
   "id": "6c19d2bb-1410-4bb7-aa80-dec6999d9bce",
   "metadata": {},
   "outputs": [],
   "source": []
  },
  {
   "cell_type": "code",
   "execution_count": null,
   "id": "71b710f0-8bdd-4f24-9572-3802d86fabb8",
   "metadata": {},
   "outputs": [],
   "source": []
  }
 ],
 "metadata": {
  "kernelspec": {
   "display_name": "Python (tf-base)",
   "language": "python",
   "name": "tf-base"
  },
  "language_info": {
   "codemirror_mode": {
    "name": "ipython",
    "version": 3
   },
   "file_extension": ".py",
   "mimetype": "text/x-python",
   "name": "python",
   "nbconvert_exporter": "python",
   "pygments_lexer": "ipython3",
   "version": "3.10.18"
  }
 },
 "nbformat": 4,
 "nbformat_minor": 5
}
